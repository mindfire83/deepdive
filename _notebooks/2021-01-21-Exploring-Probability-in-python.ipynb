{
 "cells": [
  {
   "cell_type": "markdown",
   "metadata": {},
   "source": []
  },
  {
   "cell_type": "markdown",
   "metadata": {},
   "source": [
    "## Getting Started\n",
    "\n",
    "I have started a course on probability from [MIT Open courseware](https://ocw.mit.edu/courses/electrical-engineering-and-computer-science/6-436j-fundamentals-of-probability-fall-2018/)\n",
    "\n",
    "In an attempt to solidify my learning and also get started on my blog I will try to code interesting problems/topics that I come across.\n",
    "\n",
    "Starting with the [Monty Hall problem](https://en.wikipedia.org/wiki/Monty_Hall_problem).\n",
    "\n",
    "In this notebook, I will attempt to:\n",
    "- Create a Simulation of a single trial of the Monty Hall Problem (with the option to switch)\n",
    "- Run the simulation multile number of times (with switching, without switching and random switchnig) and explore the results\n",
    "- Figure out if I can make the simulation faster\n",
    "\n",
    "To get started, lets define a function that takes in three inputs (Prize door #, Selected door #, Switch) and returns the result of the experiment (win or loss).\n",
    "\n",
    "Additionally in this case, a win with switching is a loss without switching (and vice versa)"
   ]
  },
  {
   "cell_type": "code",
   "execution_count": 1,
   "metadata": {},
   "outputs": [],
   "source": [
    "# Returns if the trial results in a win\n",
    "def MontyTrial(win_door, selected_door, switch = False):\n",
    "    if (win_door == selected_door and not switch):\n",
    "        return 1\n",
    "    elif (win_door == selected_door and switch):\n",
    "        return 0\n",
    "    elif (win_door != selected_door and switch):\n",
    "        return 1\n",
    "    elif (win_door != selected_door and not switch):\n",
    "        return 0"
   ]
  },
  {
   "cell_type": "markdown",
   "metadata": {},
   "source": [
    "### Simulating the trials\n",
    "\n",
    "Now that we have a function that can give us the outcome of an individual trial, lets see if we can run multiple trials and find out what happens.\n",
    "\n",
    "I will use a Numpy array to generate random winning door numbers and selected door numbers."
   ]
  },
  {
   "cell_type": "code",
   "execution_count": 2,
   "metadata": {},
   "outputs": [
    {
     "name": "stdout",
     "output_type": "stream",
     "text": [
      "Seed:  1611073640\n",
      "10 Random integers between 1 & 3:  [2 2 2 3 3 2 1 2 3 1]\n"
     ]
    }
   ],
   "source": [
    "# Import numpy and datetime. I will use current UTC as the seed for Numpy's random number generator\n",
    "import numpy as np\n",
    "from datetime import datetime\n",
    "\n",
    "seed = datetime.utcnow().timestamp()\n",
    "\n",
    "#Testing generation of 10 random ints between 1 and 3\n",
    "\n",
    "print(\"Seed: \", int(seed))\n",
    "np.random.seed(int(seed))\n",
    "\n",
    "print(\"10 Random integers between 1 & 3: \", np.random.randint(1,4,10))\n",
    "\n"
   ]
  },
  {
   "cell_type": "markdown",
   "metadata": {},
   "source": [
    "Having set that up, I will now generate two arrays of size 1000 each. One would be the winning door number and the other would be the selected door number.\n",
    "\n",
    "Then we can feed in the results to the MontyTrial function and evaluate the results\n",
    "\n",
    "Edit: Going to convert this into a function so that I can time the results"
   ]
  },
  {
   "cell_type": "code",
   "execution_count": 3,
   "metadata": {},
   "outputs": [
    {
     "name": "stdout",
     "output_type": "stream",
     "text": [
      "Simulating  100000  trials\n",
      "Probability of winning with no switching:  0.33394\n",
      "Probability of winning with always switching:  0.66606\n"
     ]
    }
   ],
   "source": [
    "#This function runs Monty Hall trials for the given number of trials. \n",
    "#The supress variable will stop any output from the function for timing purposes\n",
    "def MontySimulation(trials, supress=False):\n",
    "    if (supress == False):\n",
    "        print(\"Simulating \",trials,\" trials\")\n",
    "    Winning_Door = np.random.randint(1,4,trials)\n",
    "    Selected_Door = np.random.randint(1,4,trials)\n",
    "\n",
    "    Result = 0\n",
    "\n",
    "    #Running the trial where the contestant never switches\n",
    "    for i in range(0, len(Winning_Door)):\n",
    "        Result += MontyTrial(Winning_Door[i], Selected_Door[i], False)\n",
    "\n",
    "    Result = Result/trials\n",
    "    if (supress == False):\n",
    "        print(\"Probability of winning with no switching: \", Result)\n",
    "        print(\"Probability of winning with always switching: \", 1 - Result)\n",
    "    \n",
    "MontySimulation(100000)"
   ]
  },
  {
   "cell_type": "markdown",
   "metadata": {},
   "source": [
    "Looking at the results above, the probability of winning is ~67% or 2/3rd of the time if an always switching strategy is adopted.\n",
    "\n",
    "However I think this implementation is not optimal and there is an opportunity to speed it up. To start, I will time 1 million trials."
   ]
  },
  {
   "cell_type": "code",
   "execution_count": 4,
   "metadata": {},
   "outputs": [
    {
     "name": "stdout",
     "output_type": "stream",
     "text": [
      "817 ms ± 145 ms per loop (mean ± std. dev. of 7 runs, 1 loop each)\n"
     ]
    }
   ],
   "source": [
    "%timeit MontySimulation(1000000, True)"
   ]
  },
  {
   "cell_type": "markdown",
   "metadata": {},
   "source": [
    "With the current logic, it takes about 1 second to run 1 million MontyHall trials. There is obviously room for improvement. To start, lets see if we can simplyfy the Monty Trial function"
   ]
  },
  {
   "cell_type": "code",
   "execution_count": 5,
   "metadata": {},
   "outputs": [],
   "source": [
    "#In the v2 version of this function, I will try to reduce the for conditionals and run a trial to see if that improves performance\n",
    "def MontyTrialv2(win_door, selected_door, switch = False):\n",
    "    result = 0 if win_door == selected_door else 1\n",
    "    return result == switch    "
   ]
  },
  {
   "cell_type": "markdown",
   "metadata": {},
   "source": [
    "Came down to a bit of a wierd logic, but this is what the function is doing:\n",
    "\n",
    "1. If Winning door and selected door are the same then set result to 0, else set it to 1\n",
    "2. If there is no switching, then the variable switch is false (0) and so result would be equal to switch (and a win)\n",
    "3. If result is one and no switching, then the return statement returns as false (1 == 0)\n",
    "4. With switching (variable switch set to true) a zero resutls returns a false (since 0 != 1)\n",
    "5. Finally, with switching set to true a 1 results returns True (since 1 == 1)\n",
    "\n",
    "Lets plug this new function into a simulator and see if this speeds up the code"
   ]
  },
  {
   "cell_type": "code",
   "execution_count": 6,
   "metadata": {},
   "outputs": [
    {
     "name": "stdout",
     "output_type": "stream",
     "text": [
      "Simulating  100000  trials\n",
      "Probability of winning with no switching:  0.33181\n",
      "Probability of winning with always switching:  0.6681900000000001\n",
      "Simulating  100000  trials in v2\n",
      "Probability of winning with no switching:  0.33161\n",
      "Probability of winning with always switching:  0.66839\n"
     ]
    }
   ],
   "source": [
    "#V2 simulation fucntion uses the Monty V2 to generate results\n",
    "def MontySimulationv2(trials, supress=False):\n",
    "    if (supress == False):\n",
    "        print(\"Simulating \",trials,\" trials in v2\")\n",
    "    Winning_Door = np.random.randint(1,4,trials)\n",
    "    Selected_Door = np.random.randint(1,4,trials)\n",
    "\n",
    "    Result = 0\n",
    "\n",
    "    #Running the trial where the contestant never switches\n",
    "    for i in range(0, len(Winning_Door)):\n",
    "        Result += MontyTrialv2(Winning_Door[i], Selected_Door[i], False)\n",
    "\n",
    "    Result = Result/trials\n",
    "    if (supress == False):\n",
    "        print(\"Probability of winning with no switching: \", Result)\n",
    "        print(\"Probability of winning with always switching: \", 1 - Result)\n",
    "    \n",
    "MontySimulation(100000)\n",
    "MontySimulationv2(100000)"
   ]
  },
  {
   "cell_type": "code",
   "execution_count": 7,
   "metadata": {},
   "outputs": [
    {
     "name": "stdout",
     "output_type": "stream",
     "text": [
      "Timing v1 Simulation on 1 million trials\n",
      "735 ms ± 16.1 ms per loop (mean ± std. dev. of 7 runs, 1 loop each)\n",
      "Timing v2 Simulation on 1 million trials\n",
      "659 ms ± 25.5 ms per loop (mean ± std. dev. of 7 runs, 1 loop each)\n"
     ]
    }
   ],
   "source": [
    "print(\"Timing v1 Simulation on 1 million trials\")\n",
    "%timeit MontySimulation(1000000, True)\n",
    "print(\"Timing v2 Simulation on 1 million trials\")\n",
    "%timeit MontySimulationv2(1000000, True)"
   ]
  },
  {
   "cell_type": "markdown",
   "metadata": {},
   "source": [
    "Not a measurable impact. It could be the different arrays generated in each function (unlikely!!) so lets just time the main trail function itself"
   ]
  },
  {
   "cell_type": "code",
   "execution_count": 8,
   "metadata": {},
   "outputs": [
    {
     "name": "stdout",
     "output_type": "stream",
     "text": [
      "Timing v1 trial function\n",
      "216 ns ± 17.3 ns per loop (mean ± std. dev. of 7 runs, 1000000 loops each)\n",
      "Timing v2 trial function\n",
      "178 ns ± 23.3 ns per loop (mean ± std. dev. of 7 runs, 10000000 loops each)\n"
     ]
    }
   ],
   "source": [
    "print(\"Timing v1 trial function\")\n",
    "%timeit MontyTrial(1,2,True)\n",
    "print(\"Timing v2 trial function\")\n",
    "%timeit MontyTrialv2(1,2,True)"
   ]
  },
  {
   "cell_type": "markdown",
   "metadata": {},
   "source": [
    "Marginal impact. So lets try a completely different approach. Building this simulator, i have realised:\n",
    "\n",
    "- There is a mathematical function that can return the result of the simulation (thus there will ne no need for conditionals)\n",
    "- A win in the non-switching trial would be a loss in the switching trial (and vice versa) since there are only two doors left to choose from\n",
    "\n",
    "So using Numpy there could be a faster implementation."
   ]
  },
  {
   "cell_type": "code",
   "execution_count": 11,
   "metadata": {},
   "outputs": [],
   "source": [
    "#Numpy based implementation\n",
    "def MontySimulationv3(trials, supress=False):\n",
    "    if (supress == False):\n",
    "        print(\"Simulating \",trials,\" trials in v3 (Numpy Version)\")\n",
    "    #Generate a winning and a trial array and compare. A true in this array results in a win in case of no switching\n",
    "    Result = np.random.randint(1,4,trials) == np.random.randint(1,4,trials)\n",
    "    \n",
    "    #If Winning door and the selected doors are the same and there is no switching, then its a win\n",
    "    Noswitch_win = Result.sum()/trials\n",
    "    \n",
    "    if (supress == False):\n",
    "        print(\"Probability of winning with no switching: \", Noswitch_win)\n",
    "        #Winning with switching is 1 - probability of winning without switching\n",
    "        print(\"Probability of winning with switching: \", 1 - Noswitch_win)\n",
    "    "
   ]
  },
  {
   "cell_type": "code",
   "execution_count": 12,
   "metadata": {},
   "outputs": [
    {
     "name": "stdout",
     "output_type": "stream",
     "text": [
      "Simulating  1000000  trials in v3 (Numpy Version)\n",
      "Probability of winning with no switching:  0.333419\n",
      "Probability of winning with switching:  0.666581\n"
     ]
    }
   ],
   "source": [
    "MontySimulationv3(1000000)"
   ]
  },
  {
   "cell_type": "markdown",
   "metadata": {},
   "source": [
    "The final version of the simulator uses Numpy only to run trials. All logic is boiled down to a simple comparison of the winning door array and selected door array. Lets find out if that speeds up the model"
   ]
  },
  {
   "cell_type": "code",
   "execution_count": 13,
   "metadata": {},
   "outputs": [
    {
     "name": "stdout",
     "output_type": "stream",
     "text": [
      "Timing v1 Simulation on 1 million trials\n",
      "661 ms ± 12.1 ms per loop (mean ± std. dev. of 7 runs, 1 loop each)\n",
      "Timing v2 Simulation on 1 million trials\n",
      "576 ms ± 5.93 ms per loop (mean ± std. dev. of 7 runs, 1 loop each)\n",
      "Timing v3 Simulation on 1 million trials\n",
      "26.4 ms ± 897 µs per loop (mean ± std. dev. of 7 runs, 10 loops each)\n"
     ]
    }
   ],
   "source": [
    "print(\"Timing v1 Simulation on 1 million trials\")\n",
    "%timeit MontySimulation(1000000, True)\n",
    "print(\"Timing v2 Simulation on 1 million trials\")\n",
    "%timeit MontySimulationv2(1000000, True)\n",
    "print(\"Timing v3 Simulation on 1 million trials\")\n",
    "%timeit MontySimulationv3(1000000, True)"
   ]
  },
  {
   "cell_type": "markdown",
   "metadata": {},
   "source": [
    "Woah...A Numpy only implementation is almost 10 times faster than my v1 and v2 versions, although all three versions generate their own arrays. Lets modify all three function to accept external arrays so that we can compare the results as well"
   ]
  },
  {
   "cell_type": "code",
   "execution_count": 14,
   "metadata": {},
   "outputs": [],
   "source": [
    "trials = 1000000\n",
    "Winning_Door = np.random.randint(1,4,trials)\n",
    "Selected_Door = np.random.randint(1,4,trials)\n",
    "\n",
    "def MontySimulation(trials,Winning_Door,Selected_Door, supress=False):\n",
    "    if (supress == False):\n",
    "        print(\"Simulating \",trials,\" trials\")\n",
    "    Result = 0\n",
    "\n",
    "    #Running the trial where the contestant never switches\n",
    "    for i in range(0, len(Winning_Door)):\n",
    "        Result += MontyTrial(Winning_Door[i], Selected_Door[i], False)\n",
    "\n",
    "    Result = Result/trials\n",
    "    if (supress == False):\n",
    "        print(\"Probability of winning with no switching: \", Result)\n",
    "        print(\"Probability of winning with always switching: \", 1 - Result)\n",
    "\n",
    "def MontySimulationv2(trials,Winning_Door,Selected_Door, supress=False):\n",
    "    if (supress == False):\n",
    "        print(\"Simulating \",trials,\" trials in v2\")\n",
    "    Result = 0\n",
    "\n",
    "    #Running the trial where the contestant never switches\n",
    "    for i in range(0, len(Winning_Door)):\n",
    "        Result += MontyTrialv2(Winning_Door[i], Selected_Door[i], False)\n",
    "\n",
    "    Result = Result/trials\n",
    "    if (supress == False):\n",
    "        print(\"Probability of winning with no switching: \", Result)\n",
    "        print(\"Probability of winning with always switching: \", 1 - Result)\n",
    "\n",
    "def MontySimulationv3(trials,Winning_Door,Selected_Door, supress=False):\n",
    "    if (supress == False):\n",
    "        print(\"Simulating \",trials,\" trials in v3 (Numpy Version)\")\n",
    "    #Generate a winning and a trial array and compare. A true in this array results in a win in case of no switching\n",
    "    Result = Winning_Door == Selected_Door\n",
    "    \n",
    "    #If Winning door and the selected doors are the same and there is no switching, then its a win\n",
    "    Noswitch_win = Result.sum()/trials\n",
    "    \n",
    "    if (supress == False):\n",
    "        print(\"Probability of winning with no switching: \", Noswitch_win)\n",
    "        #Winning with switching is 1 - probability of winning without switching\n",
    "        print(\"Probability of winning with switching: \", 1 - Noswitch_win)"
   ]
  },
  {
   "cell_type": "code",
   "execution_count": 15,
   "metadata": {},
   "outputs": [
    {
     "name": "stdout",
     "output_type": "stream",
     "text": [
      "Simulating  1000000  trials\n",
      "Probability of winning with no switching:  0.333612\n",
      "Probability of winning with always switching:  0.666388\n",
      "Simulating  1000000  trials in v2\n",
      "Probability of winning with no switching:  0.333612\n",
      "Probability of winning with always switching:  0.666388\n",
      "Simulating  1000000  trials in v3 (Numpy Version)\n",
      "Probability of winning with no switching:  0.333612\n",
      "Probability of winning with switching:  0.666388\n"
     ]
    }
   ],
   "source": [
    "MontySimulation(trials, Winning_Door, Selected_Door)\n",
    "MontySimulationv2(trials, Winning_Door, Selected_Door)\n",
    "MontySimulationv3(trials, Winning_Door, Selected_Door)"
   ]
  },
  {
   "cell_type": "markdown",
   "metadata": {},
   "source": [
    "Results from all three versions are the same. Lets do a final timing run for 10 million trials"
   ]
  },
  {
   "cell_type": "code",
   "execution_count": 16,
   "metadata": {},
   "outputs": [
    {
     "name": "stdout",
     "output_type": "stream",
     "text": [
      "Timing v1 Simulation on 10 million trials\n",
      "6.68 s ± 395 ms per loop (mean ± std. dev. of 7 runs, 1 loop each)\n",
      "Timing v2 Simulation on 10 million trials\n",
      "5.73 s ± 498 ms per loop (mean ± std. dev. of 7 runs, 1 loop each)\n",
      "Timing v3 Simulation on 10 million trials\n",
      "38.6 ms ± 17.3 ms per loop (mean ± std. dev. of 7 runs, 10 loops each)\n"
     ]
    }
   ],
   "source": [
    "trials = 10000000\n",
    "Winning_Door = np.random.randint(1,4,trials)\n",
    "Selected_Door = np.random.randint(1,4,trials)\n",
    "print(\"Timing v1 Simulation on 10 million trials\")\n",
    "%timeit MontySimulation(trials, Winning_Door, Selected_Door, True)\n",
    "print(\"Timing v2 Simulation on 10 million trials\")\n",
    "%timeit MontySimulationv2(trials, Winning_Door, Selected_Door, True)\n",
    "print(\"Timing v3 Simulation on 10 million trials\")\n",
    "%timeit MontySimulationv3(trials, Winning_Door, Selected_Door, True)"
   ]
  },
  {
   "cell_type": "markdown",
   "metadata": {},
   "source": [
    "The Numpy implementation is now even faster pointing to the fact that generating the random array was the most time consuming part in the v3 algorithm.\n",
    "\n",
    "### Rounding Up\n",
    "\n",
    "This notebook was my first attempt at implementing a problem and documenting the findings. Along the way I realsied there was further opportunity for me to optimize my code by optimizing my logic and also using faster tools (Numpy)\n",
    "\n",
    "About the monty hall problem:\n",
    "\n",
    "- It is a well documented problem hence the results were not surprising\n",
    "- This is a significant deviation from the mean with a smaller number of trials, however the values converge for higher number of trials (which is to be expected)\n"
   ]
  }
 ],
 "metadata": {
  "kernelspec": {
   "display_name": "Python 3",
   "language": "python",
   "name": "python3"
  },
  "language_info": {
   "codemirror_mode": {
    "name": "ipython",
    "version": 3
   },
   "file_extension": ".py",
   "mimetype": "text/x-python",
   "name": "python",
   "nbconvert_exporter": "python",
   "pygments_lexer": "ipython3",
   "version": "3.8.2"
  }
 },
 "nbformat": 4,
 "nbformat_minor": 2
}
