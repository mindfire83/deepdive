{
 "cells": [
  {
   "cell_type": "markdown",
   "metadata": {},
   "source": [
    "# \"The Average Sydney Suburb - Data munging in Pandas\"\n",
    "\n",
    "\n",
    "- toc: false\n",
    "- branch: master\n",
    "- badges: true\n",
    "- comments: true\n",
    "- categories: [jupyter]\n",
    "\n"
   ]
  },
  {
   "cell_type": "markdown",
   "metadata": {},
   "source": [
    "## The Average Sydney Suburb - Data cleaning\n",
    "\n",
    "I have recently finished an eDx [course](https://courses.edx.org/courses/course-v1:BerkeleyX+Data8.2x+1T2019a/course/) on inferential statistics from Duke university. This course does a good job of using resampling for inferential statistics.\n",
    "\n",
    "Applying what I have learned in this course, I want to figure out the most average Sydeny suburbs in terms of the country of birth of person (__CBOP__) and age.\n",
    "\n",
    "There is a lot of data available via [ABS](https://www.abs.gov.au). I used the [Census table builder](https://www.abs.gov.au/websitedbs/censushome.nsf/home/tablebuilder) to get the CBOP and age data.\n",
    "\n",
    "In this notebook, I will clean and setup the data for my analysis"
   ]
  },
  {
   "cell_type": "code",
   "execution_count": 1,
   "metadata": {},
   "outputs": [],
   "source": [
    "#Importing the libraries that I will use\n",
    "import pandas as pd\n",
    "import numpy as np\n",
    "%matplotlib inline\n",
    "\n",
    "from IPython.display import display"
   ]
  },
  {
   "cell_type": "markdown",
   "metadata": {},
   "source": [
    "I have downloaded the following files from the 2016 Census that I will need to use for my analysis:\n",
    "-  **Population**\n",
    "    -  Total Sydney population\n",
    "    -  Top 6 CBOP population for Sydney\n",
    "    -  Total population for all of Sydney suburbs\n",
    "    -  Top 6 CBOP population for all of Sydney suburbs\n",
    "-  **Age**\n",
    "    -  Sydney's age in single digits\n",
    "    -  Sydney's suburb's age in single digits\n",
    "\n",
    "As useful as the [Census table builder](https://www.abs.gov.au/websitedbs/censushome.nsf/home/tablebuilder) is, I could not get the data in the format that I needed - hence the need for this cleaning exercise. In the past I have made use of excel and pandas for cleaning data, however in this notebook I will attempt to clean all the data in pandas.\n",
    "\n",
    "Starting with Sydney's CBOP mix. My aim is to create a table with the top 6 CBOP and Others."
   ]
  },
  {
   "cell_type": "code",
   "execution_count": 2,
   "metadata": {},
   "outputs": [],
   "source": [
    "#Read Sydney pop and top 6 cbop\n",
    "sydney_pop = pd.read_csv('greater_sydney_pop.csv', skiprows = 11)\n",
    "sydney_cbop = pd.read_csv('top_6_cobp.csv', skiprows = 11)"
   ]
  },
  {
   "cell_type": "markdown",
   "metadata": {},
   "source": [
    "For the Sydney population table, all I need is the total population value. I can get this from Index 0 and column 4823993"
   ]
  },
  {
   "cell_type": "code",
   "execution_count": 3,
   "metadata": {},
   "outputs": [
    {
     "name": "stdout",
     "output_type": "stream",
     "text": [
      "Sydney's population:  4823993\n"
     ]
    }
   ],
   "source": [
    "syd_pop = int(sydney_pop.at[0,'4823993'])\n",
    "print(\"Sydney's population: \", syd_pop)"
   ]
  },
  {
   "cell_type": "markdown",
   "metadata": {},
   "source": [
    "Now lets take a look at the Sydney CBOP table"
   ]
  },
  {
   "cell_type": "code",
   "execution_count": 4,
   "metadata": {},
   "outputs": [
    {
     "name": "stdout",
     "output_type": "stream",
     "text": [
      "<class 'pandas.core.frame.DataFrame'>\n",
      "Index: 7 entries, England to CBOP Total\n",
      "Data columns (total 1 columns):\n",
      " #   Column      Non-Null Count  Dtype\n",
      "---  ------      --------------  -----\n",
      " 0   Population  7 non-null      int64\n",
      "dtypes: int64(1)\n",
      "memory usage: 112.0+ bytes\n",
      "                                  Population\n",
      "England                               151617\n",
      "Australia                            2752123\n",
      "China (excludes SARs and Taiwan)      224682\n",
      "India                                 130579\n",
      "Vietnam                                81041\n",
      "New Zealand                            86522\n",
      "CBOP Total                           3426561\n"
     ]
    }
   ],
   "source": [
    "#Using threshold values in drop na to only drop rows with 2 Na values.\n",
    "#This has the useful side effect of dropping the unnamed column as well\n",
    "sydney_cbop.dropna(axis = 1, thresh=2, inplace = True)\n",
    "sydney_cbop.dropna(axis = 0, inplace = True)\n",
    "#rename BPLP - 4 Digit Level column to Population\n",
    "sydney_cbop.rename(columns = {sydney_cbop.columns[0]:'Population'}, inplace = True)\n",
    "#Drop info index\n",
    "sydney_cbop.drop('INFO', inplace = True)\n",
    "#convert population numbers to integer\n",
    "sydney_cbop['Population'] = sydney_cbop['Population'].apply(pd.to_numeric)\n",
    "#Rename the total index value to CBOP Total. This will be used later to calculate the value of other countries\n",
    "sydney_cbop.rename({'Total': 'CBOP Total'}, inplace = True)\n",
    "sydney_cbop.info()\n",
    "print(sydney_cbop)\n"
   ]
  },
  {
   "cell_type": "markdown",
   "metadata": {},
   "source": [
    "Next step is to add the population of people who are not from any of the 6 top countries"
   ]
  },
  {
   "cell_type": "code",
   "execution_count": 5,
   "metadata": {},
   "outputs": [
    {
     "data": {
      "text/plain": [
       "4823996"
      ]
     },
     "execution_count": 5,
     "metadata": {},
     "output_type": "execute_result"
    }
   ],
   "source": [
    "sydney_cbop.loc['CBOP Total'] =  syd_pop - sydney_cbop.at['CBOP Total', 'Population']\n",
    "sydney_cbop.rename({'CBOP Total' : 'Others'}, inplace = True)\n",
    "sydney_cbop.Population.sum()"
   ]
  },
  {
   "cell_type": "code",
   "execution_count": 6,
   "metadata": {},
   "outputs": [
    {
     "name": "stdout",
     "output_type": "stream",
     "text": [
      "                                  Population\n",
      "England                               151617\n",
      "Australia                            2752123\n",
      "China (excludes SARs and Taiwan)      224682\n",
      "India                                 130579\n",
      "Vietnam                                81041\n",
      "New Zealand                            86522\n",
      "Others                               1397432\n",
      "\n",
      "Total Sydney Population  4823996\n"
     ]
    }
   ],
   "source": [
    "print(sydney_cbop)\n",
    "print('\\nTotal Sydney Population ', sydney_cbop.Population.sum())"
   ]
  },
  {
   "cell_type": "markdown",
   "metadata": {},
   "source": [
    "All set!, we now have a table with the top 6 natonalities (CBOP) of Sydney and an others column. Next step is to repeat this process for every suburb in the greater Sydney area.\n",
    "\n",
    "_Note: It took me about 2 hours to figure out the best way to clean these two small dataframes and boil it down to a few lines of code. I am putting this here as a reminder to not get overwhelmed when I see posts where things like these seem to be the simplest of steps. Having gone through this exercise, its clear that data cleaning is very important and not as easy as it seems. Atleast when you are just getting started. Keep at it!!_"
   ]
  },
  {
   "cell_type": "code",
   "execution_count": 7,
   "metadata": {},
   "outputs": [],
   "source": [
    "#Load the top 6 CBOP by Suburb and total population by suburb files\n",
    "suburb_cbop = pd.read_csv('suburb_top_6_cobp.csv', skiprows = 11)\n",
    "suburb_pop = pd.read_csv('total_suburb_population.csv', skiprows = 11)"
   ]
  },
  {
   "cell_type": "markdown",
   "metadata": {},
   "source": [
    "Additional challenges in this dataset:  \n",
    "1) Index needs to be reset and forward filled to remove the NAN values from the index  \n",
    "2) When extracting the data from ABS, although I filtered on Sydney, it still gave me a list of all suburbs. The difference here is that for suburbs that are not in the Greater Sydney area, the population is 0. This should be easier to remove"
   ]
  },
  {
   "cell_type": "code",
   "execution_count": 8,
   "metadata": {},
   "outputs": [
    {
     "data": {
      "text/html": [
       "<div>\n",
       "<style scoped>\n",
       "    .dataframe tbody tr th:only-of-type {\n",
       "        vertical-align: middle;\n",
       "    }\n",
       "\n",
       "    .dataframe tbody tr th {\n",
       "        vertical-align: top;\n",
       "    }\n",
       "\n",
       "    .dataframe thead th {\n",
       "        text-align: right;\n",
       "    }\n",
       "</style>\n",
       "<table border=\"1\" class=\"dataframe\">\n",
       "  <thead>\n",
       "    <tr style=\"text-align: right;\">\n",
       "      <th></th>\n",
       "      <th>index</th>\n",
       "      <th>BPLP - 4 Digit Level</th>\n",
       "      <th>SSC (UR)</th>\n",
       "      <th>Unnamed: 2</th>\n",
       "    </tr>\n",
       "  </thead>\n",
       "  <tbody>\n",
       "    <tr>\n",
       "      <th>0</th>\n",
       "      <td>England</td>\n",
       "      <td>Aarons Pass</td>\n",
       "      <td>0.0</td>\n",
       "      <td>NaN</td>\n",
       "    </tr>\n",
       "    <tr>\n",
       "      <th>1</th>\n",
       "      <td>England</td>\n",
       "      <td>Abbotsbury</td>\n",
       "      <td>40.0</td>\n",
       "      <td>NaN</td>\n",
       "    </tr>\n",
       "    <tr>\n",
       "      <th>2</th>\n",
       "      <td>England</td>\n",
       "      <td>Abbotsford (NSW)</td>\n",
       "      <td>181.0</td>\n",
       "      <td>NaN</td>\n",
       "    </tr>\n",
       "    <tr>\n",
       "      <th>3</th>\n",
       "      <td>England</td>\n",
       "      <td>Abercrombie</td>\n",
       "      <td>0.0</td>\n",
       "      <td>NaN</td>\n",
       "    </tr>\n",
       "    <tr>\n",
       "      <th>4</th>\n",
       "      <td>England</td>\n",
       "      <td>Abercrombie River</td>\n",
       "      <td>0.0</td>\n",
       "      <td>NaN</td>\n",
       "    </tr>\n",
       "    <tr>\n",
       "      <th>...</th>\n",
       "      <td>...</td>\n",
       "      <td>...</td>\n",
       "      <td>...</td>\n",
       "      <td>...</td>\n",
       "    </tr>\n",
       "    <tr>\n",
       "      <th>31681</th>\n",
       "      <td>Total</td>\n",
       "      <td>Migratory - Offshore - Shipping (NSW)</td>\n",
       "      <td>0.0</td>\n",
       "      <td>NaN</td>\n",
       "    </tr>\n",
       "    <tr>\n",
       "      <th>31682</th>\n",
       "      <td>Data Source: Census of Population and Housing,...</td>\n",
       "      <td>NaN</td>\n",
       "      <td>NaN</td>\n",
       "      <td>NaN</td>\n",
       "    </tr>\n",
       "    <tr>\n",
       "      <th>31683</th>\n",
       "      <td>INFO</td>\n",
       "      <td>Cells in this table have been randomly adjuste...</td>\n",
       "      <td>NaN</td>\n",
       "      <td>NaN</td>\n",
       "    </tr>\n",
       "    <tr>\n",
       "      <th>31684</th>\n",
       "      <td>Copyright Commonwealth of Australia, 2018, see...</td>\n",
       "      <td>NaN</td>\n",
       "      <td>NaN</td>\n",
       "      <td>NaN</td>\n",
       "    </tr>\n",
       "    <tr>\n",
       "      <th>31685</th>\n",
       "      <td>ABS data licensed under Creative Commons, see ...</td>\n",
       "      <td>NaN</td>\n",
       "      <td>NaN</td>\n",
       "      <td>NaN</td>\n",
       "    </tr>\n",
       "  </tbody>\n",
       "</table>\n",
       "<p>31686 rows × 4 columns</p>\n",
       "</div>"
      ],
      "text/plain": [
       "                                                   index  \\\n",
       "0                                                England   \n",
       "1                                                England   \n",
       "2                                                England   \n",
       "3                                                England   \n",
       "4                                                England   \n",
       "...                                                  ...   \n",
       "31681                                              Total   \n",
       "31682  Data Source: Census of Population and Housing,...   \n",
       "31683                                               INFO   \n",
       "31684  Copyright Commonwealth of Australia, 2018, see...   \n",
       "31685  ABS data licensed under Creative Commons, see ...   \n",
       "\n",
       "                                    BPLP - 4 Digit Level  SSC (UR)  Unnamed: 2  \n",
       "0                                            Aarons Pass       0.0         NaN  \n",
       "1                                             Abbotsbury      40.0         NaN  \n",
       "2                                       Abbotsford (NSW)     181.0         NaN  \n",
       "3                                            Abercrombie       0.0         NaN  \n",
       "4                                      Abercrombie River       0.0         NaN  \n",
       "...                                                  ...       ...         ...  \n",
       "31681              Migratory - Offshore - Shipping (NSW)       0.0         NaN  \n",
       "31682                                                NaN       NaN         NaN  \n",
       "31683  Cells in this table have been randomly adjuste...       NaN         NaN  \n",
       "31684                                                NaN       NaN         NaN  \n",
       "31685                                                NaN       NaN         NaN  \n",
       "\n",
       "[31686 rows x 4 columns]"
      ]
     },
     "execution_count": 8,
     "metadata": {},
     "output_type": "execute_result"
    }
   ],
   "source": [
    "#Reset Index\n",
    "suburb_cbop.reset_index(inplace = True)\n",
    "#Forward fill the country name and copy only the country column. We need the NaNs for cleaning purposes\n",
    "suburb_cbop['index'] = suburb_cbop.ffill()['index']\n",
    "suburb_cbop"
   ]
  },
  {
   "cell_type": "code",
   "execution_count": 9,
   "metadata": {},
   "outputs": [],
   "source": [
    "#Set index back to country\n",
    "suburb_cbop.set_index('index', inplace = True)\n",
    "suburb_cbop.index.rename('CBOP', inplace = True)"
   ]
  },
  {
   "cell_type": "code",
   "execution_count": 10,
   "metadata": {},
   "outputs": [
    {
     "name": "stdout",
     "output_type": "stream",
     "text": [
      "<class 'pandas.core.frame.DataFrame'>\n",
      "Index: 31682 entries, England to Total\n",
      "Data columns (total 2 columns):\n",
      " #   Column      Non-Null Count  Dtype  \n",
      "---  ------      --------------  -----  \n",
      " 0   Suburb      31682 non-null  object \n",
      " 1   Population  31682 non-null  float64\n",
      "dtypes: float64(1), object(1)\n",
      "memory usage: 742.5+ KB\n"
     ]
    }
   ],
   "source": [
    "#Removing rows with 2 NaN values\n",
    "suburb_cbop.dropna(axis = 1, thresh = 2, inplace = True)\n",
    "suburb_cbop.dropna(axis = 0, thresh = 2, inplace = True)\n",
    "col_names = ['Suburb', 'Population']\n",
    "suburb_cbop.columns = col_names\n",
    "suburb_cbop.info()"
   ]
  },
  {
   "cell_type": "markdown",
   "metadata": {},
   "source": [
    "Now that we have removed the NaN values, lets look at the numbers and clean those up as well. But it is not as simple as it seems. There could be suburbs in Sydney which do not have any person from one of the top 6 nationalities. In that case, I want to preserve the 0 associated with that particular nationality for my analysis. So before I start cleaning up the numbers, lets first clean up the total suburb population dataframe"
   ]
  },
  {
   "cell_type": "code",
   "execution_count": 11,
   "metadata": {},
   "outputs": [
    {
     "name": "stdout",
     "output_type": "stream",
     "text": [
      "<class 'pandas.core.frame.DataFrame'>\n",
      "Index: 4526 entries, Aarons Pass to Migratory - Offshore - Shipping (NSW)\n",
      "Data columns (total 1 columns):\n",
      " #   Column      Non-Null Count  Dtype\n",
      "---  ------      --------------  -----\n",
      " 0   Population  4526 non-null   int64\n",
      "dtypes: int64(1)\n",
      "memory usage: 70.7+ KB\n",
      "None\n",
      "Sydney Population:  4823982\n"
     ]
    }
   ],
   "source": [
    "suburb_pop.dropna(axis = 1, thresh = 2, inplace = True)\n",
    "suburb_pop.dropna(axis = 0, thresh = 1, inplace = True)\n",
    "#Drop info column\n",
    "suburb_pop.drop('INFO', inplace = True)\n",
    "\n",
    "suburb_pop.columns = ['Population']\n",
    "#Convert population to integer\n",
    "suburb_pop['Population'] = suburb_pop['Population'].apply(pd.to_numeric)\n",
    "suburb_pop.rename_axis('Suburb', inplace = True)\n",
    "print(suburb_pop.info())\n",
    "print(\"Sydney Population: \", suburb_pop.Population.sum())\n"
   ]
  },
  {
   "cell_type": "markdown",
   "metadata": {},
   "source": [
    "The suburb_pop table now has the population of every suburb in Greater Sydney. For the remaining suburbs the population would be zero. So if we drop the 0 populations we should be left with Sydney suburbs only"
   ]
  },
  {
   "cell_type": "code",
   "execution_count": 12,
   "metadata": {},
   "outputs": [
    {
     "name": "stdout",
     "output_type": "stream",
     "text": [
      "<class 'pandas.core.frame.DataFrame'>\n",
      "Index: 893 entries, Abbotsbury to Zetland\n",
      "Data columns (total 1 columns):\n",
      " #   Column      Non-Null Count  Dtype\n",
      "---  ------      --------------  -----\n",
      " 0   Population  893 non-null    int64\n",
      "dtypes: int64(1)\n",
      "memory usage: 14.0+ KB\n"
     ]
    }
   ],
   "source": [
    "#Get index names of suburbs with zero populations\n",
    "zero_suburbs = suburb_pop[suburb_pop.Population == 0].index\n",
    "#Drop these index names\n",
    "suburb_pop.drop(zero_suburbs, inplace=True)\n",
    "suburb_pop.info()"
   ]
  },
  {
   "cell_type": "markdown",
   "metadata": {},
   "source": [
    "Dropping the 0 population suburbs leaves us with 893 suburbs. I can also use the same index names to update the top nationalities data frame (*suburb_cbop*). For that I would first need to set the suburb as the index and then drop"
   ]
  },
  {
   "cell_type": "code",
   "execution_count": 13,
   "metadata": {},
   "outputs": [
    {
     "data": {
      "text/html": [
       "<div>\n",
       "<style scoped>\n",
       "    .dataframe tbody tr th:only-of-type {\n",
       "        vertical-align: middle;\n",
       "    }\n",
       "\n",
       "    .dataframe tbody tr th {\n",
       "        vertical-align: top;\n",
       "    }\n",
       "\n",
       "    .dataframe thead th {\n",
       "        text-align: right;\n",
       "    }\n",
       "</style>\n",
       "<table border=\"1\" class=\"dataframe\">\n",
       "  <thead>\n",
       "    <tr style=\"text-align: right;\">\n",
       "      <th></th>\n",
       "      <th>CBOP</th>\n",
       "      <th>Population</th>\n",
       "    </tr>\n",
       "    <tr>\n",
       "      <th>Suburb</th>\n",
       "      <th></th>\n",
       "      <th></th>\n",
       "    </tr>\n",
       "  </thead>\n",
       "  <tbody>\n",
       "    <tr>\n",
       "      <th>Aarons Pass</th>\n",
       "      <td>England</td>\n",
       "      <td>0.0</td>\n",
       "    </tr>\n",
       "    <tr>\n",
       "      <th>Abbotsbury</th>\n",
       "      <td>England</td>\n",
       "      <td>40.0</td>\n",
       "    </tr>\n",
       "    <tr>\n",
       "      <th>Abbotsford (NSW)</th>\n",
       "      <td>England</td>\n",
       "      <td>181.0</td>\n",
       "    </tr>\n",
       "    <tr>\n",
       "      <th>Abercrombie</th>\n",
       "      <td>England</td>\n",
       "      <td>0.0</td>\n",
       "    </tr>\n",
       "    <tr>\n",
       "      <th>Abercrombie River</th>\n",
       "      <td>England</td>\n",
       "      <td>0.0</td>\n",
       "    </tr>\n",
       "    <tr>\n",
       "      <th>...</th>\n",
       "      <td>...</td>\n",
       "      <td>...</td>\n",
       "    </tr>\n",
       "    <tr>\n",
       "      <th>Yuraygir</th>\n",
       "      <td>Total</td>\n",
       "      <td>0.0</td>\n",
       "    </tr>\n",
       "    <tr>\n",
       "      <th>Zara</th>\n",
       "      <td>Total</td>\n",
       "      <td>0.0</td>\n",
       "    </tr>\n",
       "    <tr>\n",
       "      <th>Zetland</th>\n",
       "      <td>Total</td>\n",
       "      <td>6618.0</td>\n",
       "    </tr>\n",
       "    <tr>\n",
       "      <th>No usual address (NSW)</th>\n",
       "      <td>Total</td>\n",
       "      <td>0.0</td>\n",
       "    </tr>\n",
       "    <tr>\n",
       "      <th>Migratory - Offshore - Shipping (NSW)</th>\n",
       "      <td>Total</td>\n",
       "      <td>0.0</td>\n",
       "    </tr>\n",
       "  </tbody>\n",
       "</table>\n",
       "<p>31682 rows × 2 columns</p>\n",
       "</div>"
      ],
      "text/plain": [
       "                                          CBOP  Population\n",
       "Suburb                                                    \n",
       "Aarons Pass                            England         0.0\n",
       "Abbotsbury                             England        40.0\n",
       "Abbotsford (NSW)                       England       181.0\n",
       "Abercrombie                            England         0.0\n",
       "Abercrombie River                      England         0.0\n",
       "...                                        ...         ...\n",
       "Yuraygir                                 Total         0.0\n",
       "Zara                                     Total         0.0\n",
       "Zetland                                  Total      6618.0\n",
       "No usual address (NSW)                   Total         0.0\n",
       "Migratory - Offshore - Shipping (NSW)    Total         0.0\n",
       "\n",
       "[31682 rows x 2 columns]"
      ]
     },
     "execution_count": 13,
     "metadata": {},
     "output_type": "execute_result"
    }
   ],
   "source": [
    "suburb_cbop.reset_index(inplace = True)\n",
    "suburb_cbop.set_index('Suburb', inplace = True)\n",
    "suburb_cbop.loc[()]"
   ]
  },
  {
   "cell_type": "code",
   "execution_count": 14,
   "metadata": {},
   "outputs": [
    {
     "name": "stdout",
     "output_type": "stream",
     "text": [
      "<class 'pandas.core.frame.DataFrame'>\n",
      "Index: 6251 entries, Abbotsbury to Zetland\n",
      "Data columns (total 2 columns):\n",
      " #   Column      Non-Null Count  Dtype  \n",
      "---  ------      --------------  -----  \n",
      " 0   CBOP        6251 non-null   object \n",
      " 1   Population  6251 non-null   float64\n",
      "dtypes: float64(1), object(1)\n",
      "memory usage: 146.5+ KB\n"
     ]
    }
   ],
   "source": [
    "suburb_cbop.drop(zero_suburbs, inplace = True)\n",
    "suburb_cbop.info()"
   ]
  },
  {
   "cell_type": "code",
   "execution_count": 15,
   "metadata": {},
   "outputs": [
    {
     "data": {
      "text/html": [
       "<div>\n",
       "<style scoped>\n",
       "    .dataframe tbody tr th:only-of-type {\n",
       "        vertical-align: middle;\n",
       "    }\n",
       "\n",
       "    .dataframe tbody tr th {\n",
       "        vertical-align: top;\n",
       "    }\n",
       "\n",
       "    .dataframe thead th {\n",
       "        text-align: right;\n",
       "    }\n",
       "</style>\n",
       "<table border=\"1\" class=\"dataframe\">\n",
       "  <thead>\n",
       "    <tr style=\"text-align: right;\">\n",
       "      <th></th>\n",
       "      <th></th>\n",
       "      <th>Population</th>\n",
       "    </tr>\n",
       "    <tr>\n",
       "      <th>CBOP</th>\n",
       "      <th>Suburb</th>\n",
       "      <th></th>\n",
       "    </tr>\n",
       "  </thead>\n",
       "  <tbody>\n",
       "    <tr>\n",
       "      <th rowspan=\"5\" valign=\"top\">England</th>\n",
       "      <th>Abbotsbury</th>\n",
       "      <td>40.0</td>\n",
       "    </tr>\n",
       "    <tr>\n",
       "      <th>Abbotsford (NSW)</th>\n",
       "      <td>181.0</td>\n",
       "    </tr>\n",
       "    <tr>\n",
       "      <th>Acacia Gardens</th>\n",
       "      <td>63.0</td>\n",
       "    </tr>\n",
       "    <tr>\n",
       "      <th>Agnes Banks</th>\n",
       "      <td>23.0</td>\n",
       "    </tr>\n",
       "    <tr>\n",
       "      <th>Airds</th>\n",
       "      <td>46.0</td>\n",
       "    </tr>\n",
       "    <tr>\n",
       "      <th>...</th>\n",
       "      <th>...</th>\n",
       "      <td>...</td>\n",
       "    </tr>\n",
       "    <tr>\n",
       "      <th rowspan=\"5\" valign=\"top\">Total</th>\n",
       "      <th>Yellow Rock (Blue Mountains - NSW)</th>\n",
       "      <td>941.0</td>\n",
       "    </tr>\n",
       "    <tr>\n",
       "      <th>Yennora</th>\n",
       "      <td>868.0</td>\n",
       "    </tr>\n",
       "    <tr>\n",
       "      <th>Yerranderie</th>\n",
       "      <td>3.0</td>\n",
       "    </tr>\n",
       "    <tr>\n",
       "      <th>Yowie Bay</th>\n",
       "      <td>2725.0</td>\n",
       "    </tr>\n",
       "    <tr>\n",
       "      <th>Zetland</th>\n",
       "      <td>6618.0</td>\n",
       "    </tr>\n",
       "  </tbody>\n",
       "</table>\n",
       "<p>6251 rows × 1 columns</p>\n",
       "</div>"
      ],
      "text/plain": [
       "                                            Population\n",
       "CBOP    Suburb                                        \n",
       "England Abbotsbury                                40.0\n",
       "        Abbotsford (NSW)                         181.0\n",
       "        Acacia Gardens                            63.0\n",
       "        Agnes Banks                               23.0\n",
       "        Airds                                     46.0\n",
       "...                                                ...\n",
       "Total   Yellow Rock (Blue Mountains - NSW)       941.0\n",
       "        Yennora                                  868.0\n",
       "        Yerranderie                                3.0\n",
       "        Yowie Bay                               2725.0\n",
       "        Zetland                                 6618.0\n",
       "\n",
       "[6251 rows x 1 columns]"
      ]
     },
     "execution_count": 15,
     "metadata": {},
     "output_type": "execute_result"
    }
   ],
   "source": [
    "suburb_cbop.reset_index(inplace = True)\n",
    "\n",
    "suburb_cbop.set_index(['CBOP','Suburb'], inplace = True)\n",
    "suburb_cbop"
   ]
  },
  {
   "cell_type": "code",
   "execution_count": 16,
   "metadata": {},
   "outputs": [
    {
     "name": "stdout",
     "output_type": "stream",
     "text": [
      "Population    6618.0\n",
      "Name: (Total, Zetland), dtype: float64\n",
      "Population    10072\n",
      "Name: Zetland, dtype: int64\n"
     ]
    },
    {
     "data": {
      "text/plain": [
       "<pandas.core.indexing._LocIndexer at 0x11af9f630>"
      ]
     },
     "execution_count": 16,
     "metadata": {},
     "output_type": "execute_result"
    }
   ],
   "source": [
    "print(suburb_cbop.loc['Total', 'Zetland'])\n",
    "print(suburb_pop.loc['Zetland'])\n",
    "suburb_cbop.loc()"
   ]
  },
  {
   "cell_type": "markdown",
   "metadata": {},
   "source": [
    "Finally we are now in a position to create an others row for each suburb in Sydney. The others row will contain the number of people who are not from the top 6 countries"
   ]
  },
  {
   "cell_type": "code",
   "execution_count": 17,
   "metadata": {},
   "outputs": [
    {
     "data": {
      "text/html": [
       "<div>\n",
       "<style scoped>\n",
       "    .dataframe tbody tr th:only-of-type {\n",
       "        vertical-align: middle;\n",
       "    }\n",
       "\n",
       "    .dataframe tbody tr th {\n",
       "        vertical-align: top;\n",
       "    }\n",
       "\n",
       "    .dataframe thead th {\n",
       "        text-align: right;\n",
       "    }\n",
       "</style>\n",
       "<table border=\"1\" class=\"dataframe\">\n",
       "  <thead>\n",
       "    <tr style=\"text-align: right;\">\n",
       "      <th></th>\n",
       "      <th></th>\n",
       "      <th>Population</th>\n",
       "    </tr>\n",
       "    <tr>\n",
       "      <th>CBOP</th>\n",
       "      <th>Suburb</th>\n",
       "      <th></th>\n",
       "    </tr>\n",
       "  </thead>\n",
       "  <tbody>\n",
       "    <tr>\n",
       "      <th rowspan=\"5\" valign=\"top\">England</th>\n",
       "      <th>Abbotsbury</th>\n",
       "      <td>40.0</td>\n",
       "    </tr>\n",
       "    <tr>\n",
       "      <th>Abbotsford (NSW)</th>\n",
       "      <td>181.0</td>\n",
       "    </tr>\n",
       "    <tr>\n",
       "      <th>Acacia Gardens</th>\n",
       "      <td>63.0</td>\n",
       "    </tr>\n",
       "    <tr>\n",
       "      <th>Agnes Banks</th>\n",
       "      <td>23.0</td>\n",
       "    </tr>\n",
       "    <tr>\n",
       "      <th>Airds</th>\n",
       "      <td>46.0</td>\n",
       "    </tr>\n",
       "    <tr>\n",
       "      <th>...</th>\n",
       "      <th>...</th>\n",
       "      <td>...</td>\n",
       "    </tr>\n",
       "    <tr>\n",
       "      <th rowspan=\"5\" valign=\"top\">Others</th>\n",
       "      <th>Yellow Rock (Blue Mountains - NSW)</th>\n",
       "      <td>94.0</td>\n",
       "    </tr>\n",
       "    <tr>\n",
       "      <th>Yennora</th>\n",
       "      <td>751.0</td>\n",
       "    </tr>\n",
       "    <tr>\n",
       "      <th>Yerranderie</th>\n",
       "      <td>3.0</td>\n",
       "    </tr>\n",
       "    <tr>\n",
       "      <th>Yowie Bay</th>\n",
       "      <td>349.0</td>\n",
       "    </tr>\n",
       "    <tr>\n",
       "      <th>Zetland</th>\n",
       "      <td>3454.0</td>\n",
       "    </tr>\n",
       "  </tbody>\n",
       "</table>\n",
       "<p>6251 rows × 1 columns</p>\n",
       "</div>"
      ],
      "text/plain": [
       "                                            Population\n",
       "CBOP    Suburb                                        \n",
       "England Abbotsbury                                40.0\n",
       "        Abbotsford (NSW)                         181.0\n",
       "        Acacia Gardens                            63.0\n",
       "        Agnes Banks                               23.0\n",
       "        Airds                                     46.0\n",
       "...                                                ...\n",
       "Others  Yellow Rock (Blue Mountains - NSW)        94.0\n",
       "        Yennora                                  751.0\n",
       "        Yerranderie                                3.0\n",
       "        Yowie Bay                                349.0\n",
       "        Zetland                                 3454.0\n",
       "\n",
       "[6251 rows x 1 columns]"
      ]
     },
     "execution_count": 17,
     "metadata": {},
     "output_type": "execute_result"
    }
   ],
   "source": [
    "#Joining the suburb top 6 with suburb totap population dataframes and extracting the 'Total' index only\n",
    "others_temp = suburb_cbop.join(suburb_pop, on='Suburb', rsuffix = \"r\").loc[('Total', slice(None))]\n",
    "#Calculating the others population value\n",
    "others_temp.Population = others_temp.Populationr - others_temp.Population\n",
    "others_temp.drop(['Populationr'], axis=1, inplace = True)\n",
    "#Creating a final dataframe with others population value in Population_r column\n",
    "suburb_cbop_final = suburb_cbop.join(others_temp, on='Suburb', rsuffix = '_r')\n",
    "#Setting the Total index value to Nan\n",
    "suburb_cbop_final.loc[('Total', slice(None)),'Population'] = np.nan\n",
    "#renaming index value Total to Others\n",
    "suburb_cbop_final.rename(index={'Total':'Others'}, inplace = True)\n",
    "#Setting the right population value in the Others index\n",
    "suburb_cbop_final['Population'] = np.where(suburb_cbop_final['Population'].isnull(),\n",
    "                                          suburb_cbop_final['Population_r'],\n",
    "                                          suburb_cbop_final['Population'])\n",
    "suburb_cbop_final.drop(['Population_r'], axis=1, inplace = True)\n",
    "suburb_cbop_final"
   ]
  },
  {
   "cell_type": "markdown",
   "metadata": {},
   "source": [
    "That took a lot of steps and although I have setup what I wanted to, I refuse to believe that I cant find a more efficient way to do this calculation. Lets try this again"
   ]
  },
  {
   "cell_type": "code",
   "execution_count": 18,
   "metadata": {},
   "outputs": [
    {
     "data": {
      "text/html": [
       "<div>\n",
       "<style scoped>\n",
       "    .dataframe tbody tr th:only-of-type {\n",
       "        vertical-align: middle;\n",
       "    }\n",
       "\n",
       "    .dataframe tbody tr th {\n",
       "        vertical-align: top;\n",
       "    }\n",
       "\n",
       "    .dataframe thead th {\n",
       "        text-align: right;\n",
       "    }\n",
       "</style>\n",
       "<table border=\"1\" class=\"dataframe\">\n",
       "  <thead>\n",
       "    <tr style=\"text-align: right;\">\n",
       "      <th></th>\n",
       "      <th>CBOP</th>\n",
       "      <th>Population</th>\n",
       "    </tr>\n",
       "    <tr>\n",
       "      <th>Suburb</th>\n",
       "      <th></th>\n",
       "      <th></th>\n",
       "    </tr>\n",
       "  </thead>\n",
       "  <tbody>\n",
       "    <tr>\n",
       "      <th>Abbotsbury</th>\n",
       "      <td>England</td>\n",
       "      <td>40.0</td>\n",
       "    </tr>\n",
       "    <tr>\n",
       "      <th>Abbotsford (NSW)</th>\n",
       "      <td>England</td>\n",
       "      <td>181.0</td>\n",
       "    </tr>\n",
       "    <tr>\n",
       "      <th>Acacia Gardens</th>\n",
       "      <td>England</td>\n",
       "      <td>63.0</td>\n",
       "    </tr>\n",
       "    <tr>\n",
       "      <th>Agnes Banks</th>\n",
       "      <td>England</td>\n",
       "      <td>23.0</td>\n",
       "    </tr>\n",
       "    <tr>\n",
       "      <th>Airds</th>\n",
       "      <td>England</td>\n",
       "      <td>46.0</td>\n",
       "    </tr>\n",
       "    <tr>\n",
       "      <th>...</th>\n",
       "      <td>...</td>\n",
       "      <td>...</td>\n",
       "    </tr>\n",
       "    <tr>\n",
       "      <th>Yellow Rock (Blue Mountains - NSW)</th>\n",
       "      <td>Total</td>\n",
       "      <td>94.0</td>\n",
       "    </tr>\n",
       "    <tr>\n",
       "      <th>Yennora</th>\n",
       "      <td>Total</td>\n",
       "      <td>751.0</td>\n",
       "    </tr>\n",
       "    <tr>\n",
       "      <th>Yerranderie</th>\n",
       "      <td>Total</td>\n",
       "      <td>3.0</td>\n",
       "    </tr>\n",
       "    <tr>\n",
       "      <th>Yowie Bay</th>\n",
       "      <td>Total</td>\n",
       "      <td>349.0</td>\n",
       "    </tr>\n",
       "    <tr>\n",
       "      <th>Zetland</th>\n",
       "      <td>Total</td>\n",
       "      <td>3454.0</td>\n",
       "    </tr>\n",
       "  </tbody>\n",
       "</table>\n",
       "<p>6251 rows × 2 columns</p>\n",
       "</div>"
      ],
      "text/plain": [
       "                                       CBOP  Population\n",
       "Suburb                                                 \n",
       "Abbotsbury                          England        40.0\n",
       "Abbotsford (NSW)                    England       181.0\n",
       "Acacia Gardens                      England        63.0\n",
       "Agnes Banks                         England        23.0\n",
       "Airds                               England        46.0\n",
       "...                                     ...         ...\n",
       "Yellow Rock (Blue Mountains - NSW)    Total        94.0\n",
       "Yennora                               Total       751.0\n",
       "Yerranderie                           Total         3.0\n",
       "Yowie Bay                             Total       349.0\n",
       "Zetland                               Total      3454.0\n",
       "\n",
       "[6251 rows x 2 columns]"
      ]
     },
     "execution_count": 18,
     "metadata": {},
     "output_type": "execute_result"
    }
   ],
   "source": [
    "#resetting the index in the suburb cbop file\n",
    "suburb_cbop.reset_index(inplace = True)\n",
    "suburb_cbop.set_index('Suburb', inplace=True)\n",
    "suburb_cbop_final = suburb_cbop.join(suburb_pop, on='Suburb', rsuffix = \"r\")\n",
    "suburb_cbop_final['Population'] = np.where(suburb_cbop_final['CBOP'] == 'Total',\n",
    "                                    suburb_cbop_final['Populationr'] - suburb_cbop_final['Population'],\n",
    "                                    suburb_cbop_final['Population'])\n",
    "suburb_cbop_final.drop(['Populationr'], axis=1, inplace = True)\n",
    "suburb_cbop_final"
   ]
  },
  {
   "cell_type": "code",
   "execution_count": 19,
   "metadata": {},
   "outputs": [],
   "source": [
    "#As a final step, renaming Total to Others\n",
    "suburb_cbop_final.reset_index(inplace=True)\n",
    "suburb_cbop_final.set_index('CBOP', inplace = True)\n",
    "suburb_cbop_final.rename({'Total': 'Others'}, inplace = True)"
   ]
  },
  {
   "cell_type": "markdown",
   "metadata": {},
   "source": [
    "That was simpler. Not I will save my clean files for part two."
   ]
  },
  {
   "cell_type": "code",
   "execution_count": 20,
   "metadata": {},
   "outputs": [
    {
     "data": {
      "text/html": [
       "<div>\n",
       "<style scoped>\n",
       "    .dataframe tbody tr th:only-of-type {\n",
       "        vertical-align: middle;\n",
       "    }\n",
       "\n",
       "    .dataframe tbody tr th {\n",
       "        vertical-align: top;\n",
       "    }\n",
       "\n",
       "    .dataframe thead th {\n",
       "        text-align: right;\n",
       "    }\n",
       "</style>\n",
       "<table border=\"1\" class=\"dataframe\">\n",
       "  <thead>\n",
       "    <tr style=\"text-align: right;\">\n",
       "      <th></th>\n",
       "      <th>Suburb</th>\n",
       "      <th>Population</th>\n",
       "    </tr>\n",
       "    <tr>\n",
       "      <th>CBOP</th>\n",
       "      <th></th>\n",
       "      <th></th>\n",
       "    </tr>\n",
       "  </thead>\n",
       "  <tbody>\n",
       "    <tr>\n",
       "      <th>England</th>\n",
       "      <td>Abbotsbury</td>\n",
       "      <td>40.0</td>\n",
       "    </tr>\n",
       "    <tr>\n",
       "      <th>England</th>\n",
       "      <td>Abbotsford (NSW)</td>\n",
       "      <td>181.0</td>\n",
       "    </tr>\n",
       "    <tr>\n",
       "      <th>England</th>\n",
       "      <td>Acacia Gardens</td>\n",
       "      <td>63.0</td>\n",
       "    </tr>\n",
       "    <tr>\n",
       "      <th>England</th>\n",
       "      <td>Agnes Banks</td>\n",
       "      <td>23.0</td>\n",
       "    </tr>\n",
       "    <tr>\n",
       "      <th>England</th>\n",
       "      <td>Airds</td>\n",
       "      <td>46.0</td>\n",
       "    </tr>\n",
       "    <tr>\n",
       "      <th>...</th>\n",
       "      <td>...</td>\n",
       "      <td>...</td>\n",
       "    </tr>\n",
       "    <tr>\n",
       "      <th>Others</th>\n",
       "      <td>Yellow Rock (Blue Mountains - NSW)</td>\n",
       "      <td>94.0</td>\n",
       "    </tr>\n",
       "    <tr>\n",
       "      <th>Others</th>\n",
       "      <td>Yennora</td>\n",
       "      <td>751.0</td>\n",
       "    </tr>\n",
       "    <tr>\n",
       "      <th>Others</th>\n",
       "      <td>Yerranderie</td>\n",
       "      <td>3.0</td>\n",
       "    </tr>\n",
       "    <tr>\n",
       "      <th>Others</th>\n",
       "      <td>Yowie Bay</td>\n",
       "      <td>349.0</td>\n",
       "    </tr>\n",
       "    <tr>\n",
       "      <th>Others</th>\n",
       "      <td>Zetland</td>\n",
       "      <td>3454.0</td>\n",
       "    </tr>\n",
       "  </tbody>\n",
       "</table>\n",
       "<p>6251 rows × 2 columns</p>\n",
       "</div>"
      ],
      "text/plain": [
       "                                     Suburb  Population\n",
       "CBOP                                                   \n",
       "England                          Abbotsbury        40.0\n",
       "England                    Abbotsford (NSW)       181.0\n",
       "England                      Acacia Gardens        63.0\n",
       "England                         Agnes Banks        23.0\n",
       "England                               Airds        46.0\n",
       "...                                     ...         ...\n",
       "Others   Yellow Rock (Blue Mountains - NSW)        94.0\n",
       "Others                              Yennora       751.0\n",
       "Others                          Yerranderie         3.0\n",
       "Others                            Yowie Bay       349.0\n",
       "Others                              Zetland      3454.0\n",
       "\n",
       "[6251 rows x 2 columns]"
      ]
     },
     "execution_count": 20,
     "metadata": {},
     "output_type": "execute_result"
    }
   ],
   "source": [
    "suburb_cbop_final"
   ]
  },
  {
   "cell_type": "code",
   "execution_count": 21,
   "metadata": {},
   "outputs": [],
   "source": [
    "sydney_cbop.to_csv('Sydney_CBOP_Clean.csv')\n",
    "suburb_cbop_final.to_csv('Sydney_Suburb_CBOP_Clean.csv')"
   ]
  }
 ],
 "metadata": {
  "kernelspec": {
   "display_name": "Python 3",
   "language": "python",
   "name": "python3"
  },
  "language_info": {
   "codemirror_mode": {
    "name": "ipython",
    "version": 3
   },
   "file_extension": ".py",
   "mimetype": "text/x-python",
   "name": "python",
   "nbconvert_exporter": "python",
   "pygments_lexer": "ipython3",
   "version": "3.8.2"
  }
 },
 "nbformat": 4,
 "nbformat_minor": 4
}
